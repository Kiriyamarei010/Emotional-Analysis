{
  "nbformat": 4,
  "nbformat_minor": 0,
  "metadata": {
    "colab": {
      "provenance": [],
      "authorship_tag": "ABX9TyML/u0OeIY1u86y9dH/s+UV",
      "include_colab_link": true
    },
    "kernelspec": {
      "name": "python3",
      "display_name": "Python 3"
    },
    "language_info": {
      "name": "python"
    }
  },
  "cells": [
    {
      "cell_type": "markdown",
      "metadata": {
        "id": "view-in-github",
        "colab_type": "text"
      },
      "source": [
        "<a href=\"https://colab.research.google.com/github/Kiriyamarei010/Emotional-Analysis/blob/main/Sentiment-Analysis.ipynb\" target=\"_parent\"><img src=\"https://colab.research.google.com/assets/colab-badge.svg\" alt=\"Open In Colab\"/></a>"
      ]
    },
    {
      "cell_type": "code",
      "source": [
        "pip uninstall nltk\n"
      ],
      "metadata": {
        "colab": {
          "base_uri": "https://localhost:8080/"
        },
        "id": "PfhQ12GzzxBJ",
        "outputId": "6729dad5-74d8-436b-c14f-d5e873a1d69b"
      },
      "execution_count": null,
      "outputs": [
        {
          "output_type": "stream",
          "name": "stdout",
          "text": [
            "Found existing installation: nltk 3.8.1\n",
            "Uninstalling nltk-3.8.1:\n",
            "  Would remove:\n",
            "    /usr/local/bin/nltk\n",
            "    /usr/local/lib/python3.10/dist-packages/nltk-3.8.1.dist-info/*\n",
            "    /usr/local/lib/python3.10/dist-packages/nltk/*\n",
            "Proceed (Y/n)? y\n",
            "  Successfully uninstalled nltk-3.8.1\n"
          ]
        }
      ]
    },
    {
      "cell_type": "code",
      "source": [
        "yfrom afinn import Afinn  as afn\n"
      ],
      "metadata": {
        "id": "IAIza14Iz9pO"
      },
      "execution_count": null,
      "outputs": []
    },
    {
      "cell_type": "code",
      "source": [
        "pip install pandas"
      ],
      "metadata": {
        "colab": {
          "base_uri": "https://localhost:8080/"
        },
        "id": "Wpu60SkA0Qoq",
        "outputId": "f62c8de4-47b2-4f41-a86e-ff69f2962ea2"
      },
      "execution_count": null,
      "outputs": [
        {
          "output_type": "stream",
          "name": "stdout",
          "text": [
            "Looking in indexes: https://pypi.org/simple, https://us-python.pkg.dev/colab-wheels/public/simple/\n",
            "Requirement already satisfied: pandas in /usr/local/lib/python3.9/dist-packages (1.4.4)\n",
            "Requirement already satisfied: pytz>=2020.1 in /usr/local/lib/python3.9/dist-packages (from pandas) (2022.7.1)\n",
            "Requirement already satisfied: python-dateutil>=2.8.1 in /usr/local/lib/python3.9/dist-packages (from pandas) (2.8.2)\n",
            "Requirement already satisfied: numpy>=1.18.5 in /usr/local/lib/python3.9/dist-packages (from pandas) (1.22.4)\n",
            "Requirement already satisfied: six>=1.5 in /usr/local/lib/python3.9/dist-packages (from python-dateutil>=2.8.1->pandas) (1.16.0)\n"
          ]
        }
      ]
    },
    {
      "cell_type": "code",
      "source": [
        "import pandas as pd\n"
      ],
      "metadata": {
        "id": "nMuXI1Zh19DH"
      },
      "execution_count": null,
      "outputs": []
    },
    {
      "cell_type": "code",
      "source": [],
      "metadata": {
        "id": "iBIyDD5aMCDD"
      },
      "execution_count": null,
      "outputs": []
    },
    {
      "cell_type": "code",
      "source": [
        "with open('vid_7_label_1.txt', 'r') as file:\n",
        "    drugs = file.read().split('\\n')\n",
        "\n",
        "with open('vid_7_label_2.txt', 'r') as file:\n",
        "    enrollment = file.read().split('\\n')\n",
        "\n",
        "with open('vid_7_label_3.txt', 'r') as file:\n",
        "    training_time = file.read().split('\\n')\n",
        "\n",
        "with open('vid_7_label_4.txt', 'r') as file:\n",
        "    recruitment = file.read().split('\\n')\n",
        "\n",
        "with open('vid_7_label_5.txt', 'r') as file:\n",
        "    general_talks = file.read().split('\\n')\n",
        "\n",
        "with open('vid_7_label_6.txt', 'r') as file:\n",
        "    sexual_assault = file.read().split('\\n')\n",
        "\n",
        "with open('vid_7_label_7.txt', 'r') as file:\n",
        "    mental_health_degrading = file.read().split('\\n')\n",
        "\n",
        "with open('vid_7_label_8.txt', 'r') as file:\n",
        "    leadership_and_trust = file.read().split('\\n')\n",
        "drugs"
      ],
      "metadata": {
        "id": "sr9nkQ1A6ndy",
        "outputId": "76774051-33e7-499c-9fa7-2bdc1b670d6f",
        "colab": {
          "base_uri": "https://localhost:8080/"
        }
      },
      "execution_count": null,
      "outputs": [
        {
          "output_type": "execute_result",
          "data": {
            "text/plain": [
              "['the only reason that we even got away with it um one of the leaders in our platoon he was',\n",
              " 'the person doing the drug test so like you task leaders out with different jobs',\n",
              " 'sharp which is like sexual harassment uh assault response and prevention EO equal',\n",
              " 'opportunity um the UA which is the guy who does the drug test he could like kind of give us a hint like hey guys',\n",
              " \"clean up because in like x amount of days we're gonna do a drug test uh you know so then everyone would get\",\n",
              " 'clean but then once the new leadership came in they took that responsibility from him',\n",
              " 'and then next thing you know like you know four or five of our guys are popping hot for cocaine',\n",
              " 'a lot of people did heroin and meth that was really bad i lost a lot of friends actually in the army',\n",
              " 'from overdoses from that kind of stuff more times than not like a lot of people in the military i would say more so on',\n",
              " 'the combat jobs the military police the infantry cavalry we all do steroids like',\n",
              " \"it's like so normal for us to like you know do steroids like i'm over here putting you know test and anavar trend and you\",\n",
              " \"know my ass literally bending down and like no but uh everyone does it and like you know you can't you have to\",\n",
              " \"specifically test for that stuff but they know like it's to get bigger and stronger so that i can go and kill the enemy\",\n",
              " \"um so they didn't care too much about that \",\n",
              " '',\n",
              " '']"
            ]
          },
          "metadata": {},
          "execution_count": 6
        }
      ]
    },
    {
      "cell_type": "code",
      "source": [
        "afinn=afn()\n",
        "scores_drugs = [afinn.score(article) for article in drugs]\n",
        "sentiment_drugs = ['positive' if score > 0\n",
        "                          else 'negative' if score < 0\n",
        "                              else 'neutral'\n",
        "                                  for score in scores_drugs]\n",
        "positive_drugs=0\n",
        "negative_drugs=0\n",
        "neutral_drugs=0\n",
        "for score in scores_drugs:\n",
        "  if score==0:\n",
        "    neutral_drugs=neutral_drugs+1\n",
        "  elif score>0:\n",
        "    negative_drugs=negative_drugs+1\n",
        "  else:\n",
        "    positive_drugs=positive_drugs+1\n",
        "\n",
        "\n",
        "scores_enrollment = [afinn.score(article) for article in enrollment]\n",
        "sentiment_enrollment = ['positive' if score > 0\n",
        "                          else 'negative' if score < 0\n",
        "                              else 'neutral'\n",
        "                                  for score in scores_enrollment]\n",
        "positive_enrollment=0\n",
        "negative_enrollment=0\n",
        "neutral_enrollment=0\n",
        "for score in scores_enrollment:\n",
        "  if score==0:\n",
        "    neutral_enrollment=neutral_enrollment+1\n",
        "  elif score>0:\n",
        "    negative_enrollment=negative_enrollment+1\n",
        "  else:\n",
        "    positive_enrollment=positive_enrollment+1\n",
        "\n",
        "\n",
        "\n",
        "scores_training = [afinn.score(article) for article in training_time]\n",
        "sentiment_training = ['positive' if score > 0\n",
        "                          else 'negative' if score < 0\n",
        "                              else 'neutral'\n",
        "                                  for score in scores_training]\n",
        "positive_training=0\n",
        "negative_training=0\n",
        "neutral_training=0\n",
        "for score in scores_training:\n",
        "  if score==0:\n",
        "    neutral_training=neutral_training+1\n",
        "  elif score>0:\n",
        "    negative_training=negative_training+1\n",
        "  else:\n",
        "    positive_training=positive_training+1\n",
        "\n",
        "scores_recruitment = [afinn.score(article) for article in recruitment]\n",
        "sentiment_recruitment = ['positive' if score > 0\n",
        "                          else 'negative' if score < 0\n",
        "                              else 'neutral'\n",
        "                                  for score in scores_recruitment]\n",
        "\n",
        "positive_recruitment=0\n",
        "negative_recruitment=0\n",
        "neutral_recruitment=0\n",
        "for score in scores_recruitment:\n",
        "  if score==0:\n",
        "    neutral_recruitment=neutral_recruitment+1\n",
        "  elif score>0:\n",
        "    negative_recruitment=negative_recruitment+1\n",
        "  else:\n",
        "    positive_recruitment=positive_recruitment+1\n",
        "\n",
        "scores_general = [afinn.score(article) for article in general_talks]\n",
        "sentiment_general = ['positive' if score > 0\n",
        "                          else 'negative' if score < 0\n",
        "                              else 'neutral'\n",
        "                                  for score in scores_general]\n",
        "positive_general=0\n",
        "negative_general=0\n",
        "neutral_general=0\n",
        "for score in scores_general:\n",
        "  if score==0:\n",
        "    neutral_general=neutral_general+1\n",
        "  elif score>0:\n",
        "    negative_general=negative_general+1\n",
        "  else:\n",
        "    positive_general=positive_general+1\n",
        "\n",
        "scores_assault = [afinn.score(article) for article in sexual_assault]\n",
        "sentiment_assault = ['positive' if score > 0\n",
        "                          else 'negative' if score < 0\n",
        "                              else 'neutral'\n",
        "                                  for score in scores_assault]\n",
        "positive_assault=0\n",
        "negative_assault=0\n",
        "neutral_assault=0\n",
        "for score in scores_assault:\n",
        "  if score==0:\n",
        "    neutral_assault=neutral_assault+1\n",
        "  elif score>0:\n",
        "    negative_assault=negative_assault+1\n",
        "  else:\n",
        "    positive_assault=positive_assault+1\n",
        "\n",
        "scores_mental = [afinn.score(article) for article in mental_health_degrading]\n",
        "sentiment_mental = ['positive' if score > 0\n",
        "                          else 'negative' if score < 0\n",
        "                              else 'neutral'\n",
        "                                  for score in scores_mental]\n",
        "positive_mental=0\n",
        "negative_mental=0\n",
        "neutral_mental=0\n",
        "for score in scores_drugs:\n",
        "  if score==0:\n",
        "    neutral_mental=neutral_mental+1\n",
        "  elif score>0:\n",
        "    negative_mental=negative_mental+1\n",
        "  else:\n",
        "    positive_mental=positive_mental+1\n",
        "\n",
        "scores_leadership = [afinn.score(article) for article in leadership_and_trust]\n",
        "sentiment_leadership = ['positive' if score > 0\n",
        "                          else 'negative' if score < 0\n",
        "                              else 'neutral'\n",
        "                                  for score in scores_leadership]\n",
        "positive_leadership=0\n",
        "negative_leadership=0\n",
        "neutral_leadership=0\n",
        "for score in scores_leadership:\n",
        "  if score==0:\n",
        "    neutral_leadership=neutral_leadership+1\n",
        "  elif score>0:\n",
        "    negative_leadership=negative_leadership+1\n",
        "  else:\n",
        "    positive_leadership=positive_leadership+1\n",
        "\n",
        "\n",
        ""
      ],
      "metadata": {
        "id": "-bZh3Xv860rm"
      },
      "execution_count": null,
      "outputs": []
    },
    {
      "cell_type": "code",
      "source": [
        "import matplotlib.pyplot as plt\n",
        "import numpy as np\n",
        "\n",
        "# create data\n",
        "x = np.arange(8)\n",
        "y1 = [positive_drugs, positive_enrollment, positive_general, positive_assault, positive_leadership, positive_mental, positive_recruitment, positive_training]\n",
        "y2 = [negative_drugs, negative_enrollment, negative_general, negative_assault, negative_leadership, negative_mental, negative_recruitment, negative_training]\n",
        "y3 = [neutral_drugs, neutral_enrollment, neutral_general, neutral_assault, neutral_leadership, neutral_mental, neutral_recruitment, neutral_training]\n",
        "width = 0.2\n",
        "\n",
        "# plot data in grouped manner of bar type\n",
        "plt.bar(x-0.2, y1, width, color='cyan')\n",
        "plt.bar(x, y2, width, color='orange')\n",
        "plt.bar(x+0.2, y3, width, color='green')\n",
        "plt.xticks(x, ['Drugs', 'Enrollment', 'General', 'Assault', 'Leadership', 'Mental Health', 'Recruitment', 'Training'])\n",
        "plt.xlabel(\"label\")\n",
        "plt.ylabel(\"Scores\")\n",
        "plt.legend([\"positive\", \"negative\", \"neutral\"])\n",
        "plt.show()"
      ],
      "metadata": {
        "id": "QCF9Y7U39Otc",
        "colab": {
          "base_uri": "https://localhost:8080/",
          "height": 449
        },
        "outputId": "efa357a4-5ff5-465d-d669-7062518fb925"
      },
      "execution_count": null,
      "outputs": [
        {
          "output_type": "display_data",
          "data": {
            "text/plain": [
              "<Figure size 640x480 with 1 Axes>"
            ],
            "image/png": "[encoded data removed]"
          },
          "metadata": {}
        }
      ]
    },
    {
      "cell_type": "code",
      "source": [],
      "metadata": {
        "id": "BIsnsqmi9diH"
      },
      "execution_count": null,
      "outputs": []
    }
  ]
}